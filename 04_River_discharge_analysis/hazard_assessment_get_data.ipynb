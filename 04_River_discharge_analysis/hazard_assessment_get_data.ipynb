{
 "cells": [
  {
   "cell_type": "markdown",
   "id": "0e234553-4a00-4e24-a410-8d1e63ea9c97",
   "metadata": {},
   "source": [
    "# Hazard assessment for river flooding using river discharge statistics: Accessing data\n",
    "\n",
    "- A workflow from the CLIMAAX [Handbook](https://handbook.climaax.eu/) and [FLOODS](https://github.com/CLIMAAX/FLOODS) GitHub repository.\n",
    "- See our [how to use risk workflows](https://handbook.climaax.eu/notebooks/workflows_how_to.html) page for information on how to run this notebook."
   ]
  },
  {
   "cell_type": "markdown",
   "id": "49f49b12-6cba-45b9-b6f5-8c59b1de7a8d",
   "metadata": {},
   "source": [
    "This notebook illustrates how the river discharges dataset can be downloaded via API from the Copernicus Data Store (CDS) for subsequent use in the analysis.\n",
    "\n",
    ":::{note}\n",
    "The CDS dataset is downloaded for the entire Europe, it is not possible to subset it by area prior to downloading.\n",
    "CLIMAAX provides a [dataset mirror](https://handbook.climaax.eu/resources/datasets/river_discharges_mirror.html) for regional data access.\n",
    "To use the dataset mirror, skip this data access notebook and go directly to the [timeseries analysis](./hazard_assessment_timeseries_analysis.ipynb) notebook.\n",
    ":::"
   ]
  },
  {
   "attachments": {},
   "cell_type": "markdown",
   "id": "231ced71-f89d-46ad-803b-ff285f9b495d",
   "metadata": {},
   "source": [
    "## Preparation work\n",
    "\n",
    "### Load libraries\n",
    "\n",
    "`````{admonition} Find more info about the libraries used in this workflow here\n",
    ":class: hint dropdown\n",
    "\n",
    "In this notebook we will use the following Python libraries:\n",
    "- [os](https://docs.python.org/3/library/os.html) - provides a way to interact with the operating system, allowing the creation of directories and file manipulation.\n",
    "- [zipfile](https://docs.python.org/3/library/zipfile.html) - library for working with ZIP archives.\n",
    "- [cdsapi](https://cds.climate.copernicus.eu/how-to-api) - a library to request data from the datasets listed in the CDS catalogue.\n",
    "\n",
    "These libraries enable the download and preprocessing of the datasets included in the river discharge analysis workflow.\n",
    "`````"
   ]
  },
  {
   "cell_type": "code",
   "execution_count": null,
   "id": "1be75a8f",
   "metadata": {},
   "outputs": [],
   "source": [
    "import os\n",
    "import zipfile\n",
    "\n",
    "import cdsapi"
   ]
  },
  {
   "cell_type": "markdown",
   "id": "0dd7e4d7",
   "metadata": {},
   "source": [
    "### Create the directory structure\n",
    "In the next cell will create the directory called `FLOOD_RIVER_discharges` in the same directory where this notebook is saved. A folder for storing data will be made as well."
   ]
  },
  {
   "cell_type": "code",
   "execution_count": null,
   "id": "3783fef3",
   "metadata": {},
   "outputs": [],
   "source": [
    "# Define the folder for the flood workflow\n",
    "workflow_folder = 'FLOOD_RIVER_discharges'\n",
    "os.makedirs(workflow_folder, exist_ok=True)\n",
    "\n",
    "data_folder = os.path.join(workflow_folder, 'data')\n",
    "os.makedirs(data_folder, exist_ok=True)\n",
    "\n",
    "data_folder_catch = os.path.join(data_folder, 'EHYPEcatch')\n",
    "os.makedirs(data_folder_catch, exist_ok=True)"
   ]
  },
  {
   "cell_type": "markdown",
   "id": "2e945289",
   "metadata": {},
   "source": [
    "## Data access parameters\n",
    "\n",
    "In the cell below we will select three GCM-RCM model combinations (see dataset documentation for the available combinations). Using several model combinations helps to assess the uncertainty range due to the different climate models in the river discharges data.  "
   ]
  },
  {
   "cell_type": "code",
   "execution_count": null,
   "id": "0fdddd89",
   "metadata": {},
   "outputs": [],
   "source": [
    "gcms = [\"ec_earth\", \"hadgem2_es\", \"mpi_esm_lr\", \"ec_earth\", \"mpi_esm_lr\", \"hadgem2_es\"]\n",
    "rcms = [\"cclm4_8_17\", \"racmo22e\", \"rca4\", \"racmo22e\", \"csc_remo2009\", \"rca4\"]\n",
    "ens_members = ['r12i1p1', 'r1i1p1', 'r1i1p1', 'r12i1p1', 'r1i1p1', 'r1i1p1']\n",
    "\n",
    "hydrological_models = [\n",
    "    \"e_hypecatch_m00\", \"e_hypecatch_m01\", \"e_hypecatch_m02\", \"e_hypecatch_m03\",\n",
    "    \"e_hypecatch_m04\", \"e_hypecatch_m05\", \"e_hypecatch_m06\", \"e_hypecatch_m07\"\n",
    "]"
   ]
  },
  {
   "cell_type": "markdown",
   "id": "c82a9e5c",
   "metadata": {},
   "source": [
    "We also need to initialize the API client to be able to make connection to the CDS servers for downloading the data."
   ]
  },
  {
   "cell_type": "code",
   "execution_count": null,
   "id": "71825214",
   "metadata": {},
   "outputs": [],
   "source": [
    "client = cdsapi.Client()"
   ]
  },
  {
   "cell_type": "markdown",
   "id": "0251f2de",
   "metadata": {},
   "source": [
    "## Downloading river discharge timeseries (historical daily values)\n",
    "\n",
    "First, we will download catchment-level discharge data for the historical period. Data is available based on different E-HYPEcatch model realizations. We will download all model realizations.\n",
    "\n",
    "The daily timeseries are downloaded for the period of 1991-2005. The total duration of 15 years is chosen as a minimum time period for deriving representative long-term statistics. If a different period is required for comparing to local observations, the selection can be adjusted below as part of the API request under \"period\".\n",
    "\n",
    "The total size of the preconfigured data request is about 36 GB."
   ]
  },
  {
   "cell_type": "code",
   "execution_count": null,
   "id": "f0989bb6",
   "metadata": {},
   "outputs": [],
   "source": [
    "for gcm, rcm, ens_member in zip(gcms, rcms, ens_members):\n",
    "    file = os.path.join(data_folder_catch, 'download.zip')\n",
    "    dataset = \"sis-hydrology-variables-derived-projections\"\n",
    "    request = {\n",
    "        \"product_type\": \"essential_climate_variables\",\n",
    "        \"variable\": [\"river_discharge\"],\n",
    "        \"variable_type\": \"absolute_values\",\n",
    "        \"time_aggregation\": \"daily\",\n",
    "        \"experiment\": [\"historical\"],\n",
    "        \"hydrological_model\": hydrological_models,\n",
    "        \"rcm\": rcm,\n",
    "        \"gcm\": gcm,\n",
    "        \"ensemble_member\": ens_member,\n",
    "        \"period\": [\"1991_2000\", \"2001_2005\"]\n",
    "    }\n",
    "    client.retrieve(dataset, request, file)\n",
    "\n",
    "    # Unzip the file that was just downloaded, and remove the zip file\n",
    "    with zipfile.ZipFile(file, 'r') as zObject:\n",
    "        zObject.extractall(path=data_folder_catch)\n",
    "    os.remove(file)"
   ]
  },
  {
   "cell_type": "markdown",
   "id": "a6cd2882",
   "metadata": {},
   "source": [
    "## Downloading river discharge timeseries (monthly means)\n",
    "\n",
    "Next we will download the historical monthly means of river discharges for 1971-2000 from the E-HYPEcatch models which are useful for checking longer-term statistics of river discharges in the historical climate.\n",
    "\n",
    "The total size of the preconfigured dataset is about 1 GB."
   ]
  },
  {
   "cell_type": "code",
   "execution_count": null,
   "id": "e7ed5061",
   "metadata": {},
   "outputs": [],
   "source": [
    "for gcm, rcm, ens_member in zip(gcms, rcms, ens_members):\n",
    "    file = os.path.join(data_folder_catch, 'download.zip')\n",
    "    dataset = \"sis-hydrology-variables-derived-projections\"\n",
    "    request = {\n",
    "        \"product_type\": \"climate_impact_indicators\",\n",
    "        \"variable\": [\"river_discharge\"],\n",
    "        \"variable_type\": \"absolute_values\",\n",
    "        \"time_aggregation\": \"monthly_mean\",\n",
    "        \"experiment\": [\"historical\"],\n",
    "        \"hydrological_model\": hydrological_models,\n",
    "        \"rcm\": rcm,\n",
    "        \"gcm\": gcm,\n",
    "        \"ensemble_member\": ens_member,\n",
    "        \"period\": [\"1971_2000\"]\n",
    "    }\n",
    "    client.retrieve(dataset, request, file)\n",
    "\n",
    "    # Unzip the file that was just downloaded, and remove the zip file\n",
    "    with zipfile.ZipFile(file, 'r') as zObject:\n",
    "        zObject.extractall(path=data_folder_catch)\n",
    "    os.remove(file)"
   ]
  },
  {
   "cell_type": "markdown",
   "id": "965d76a8",
   "metadata": {},
   "source": [
    "We will download monthly means of discharges for future periods of 2011-2040, 2041-2070 and 2071-2100:"
   ]
  },
  {
   "cell_type": "code",
   "execution_count": null,
   "id": "a0f598ba",
   "metadata": {},
   "outputs": [],
   "source": [
    "for gcm, rcm, ens_member in zip(gcms, rcms, ens_members):\n",
    "    for period in [\"2011_2040\", \"2041_2070\", \"2071_2100\"]:\n",
    "        file = os.path.join(data_folder_catch, 'download.zip')\n",
    "        dataset = \"sis-hydrology-variables-derived-projections\"\n",
    "        request = {\n",
    "            \"product_type\": \"climate_impact_indicators\",\n",
    "            \"variable\": [\"river_discharge\"],\n",
    "            \"variable_type\": \"absolute_values\",\n",
    "            \"time_aggregation\": \"monthly_mean\",\n",
    "            \"experiment\": [\"rcp_4_5\",\"rcp_8_5\"],\n",
    "            \"hydrological_model\": hydrological_models,\n",
    "            \"rcm\": rcm,\n",
    "            \"gcm\": gcm,\n",
    "            \"ensemble_member\": ens_member,\n",
    "            \"period\": period\n",
    "        }\n",
    "        client.retrieve(dataset, request, file)\n",
    "\n",
    "        # Unzip the file that was just downloaded, and remove the zip file\n",
    "        with zipfile.ZipFile(file, 'r') as zObject:\n",
    "            zObject.extractall(path=data_folder_catch)\n",
    "        os.remove(file)"
   ]
  },
  {
   "cell_type": "markdown",
   "id": "40a8b80a",
   "metadata": {},
   "source": [
    "## Downloading data on flood occurence (extreme river discharges)\n",
    "\n",
    "We will download river discharge data corresponding to the 10-year and 50-year return periods (extreme river discharges projected to be exceeded once in 10 years and once in 50 years). Similarly to the timeseries data, we will download this data for different climate scenarios, timelines and catchment models.\n",
    "\n",
    "Downloading 10-year and 50-year return period river discharges for the historical climate:"
   ]
  },
  {
   "cell_type": "code",
   "execution_count": null,
   "id": "f99d1802",
   "metadata": {},
   "outputs": [],
   "source": [
    "for gcm, rcm, ens_member in zip(gcms, rcms, ens_members):\n",
    "    file = os.path.join(data_folder_catch, 'download.zip')\n",
    "    dataset = \"sis-hydrology-variables-derived-projections\"\n",
    "    request = {\n",
    "        \"product_type\": \"climate_impact_indicators\",\n",
    "        \"variable\": [\"flood_recurrence_10_years_return_period\",\n",
    "                     \"flood_recurrence_50_years_return_period\"],\n",
    "        \"variable_type\": \"absolute_values\",\n",
    "        \"time_aggregation\": \"annual_mean\",\n",
    "        \"experiment\": [\"historical\"],\n",
    "        \"hydrological_model\": hydrological_models,\n",
    "        \"rcm\": rcm,\n",
    "        \"gcm\": gcm,\n",
    "        \"ensemble_member\": ens_member,\n",
    "        \"period\": [\"1971_2000\"]\n",
    "    }   \n",
    "    client.retrieve(dataset, request, file)\n",
    "\n",
    "    # Unzip the file that was just downloaded, and remove the zip file\n",
    "    with zipfile.ZipFile(file, 'r') as zObject:\n",
    "        zObject.extractall(path=data_folder_catch)\n",
    "    os.remove(file)"
   ]
  },
  {
   "cell_type": "markdown",
   "id": "2327bb0d",
   "metadata": {},
   "source": [
    "Downloading 10-year and 50-year return period river discharges for the future time periods in terms of absolute and relative values:"
   ]
  },
  {
   "cell_type": "code",
   "execution_count": null,
   "id": "89f56564",
   "metadata": {},
   "outputs": [],
   "source": [
    "for variable_type in [\"absolute_values\", \"relative_change_from_reference_period\"]:\n",
    "    for gcm, rcm, ens_member in zip(gcms, rcms, ens_members):\n",
    "        for period in [\"2011_2040\", \"2041_2070\", \"2071_2100\"]:\n",
    "            file = os.path.join(data_folder_catch, 'download.zip')\n",
    "            dataset = \"sis-hydrology-variables-derived-projections\"\n",
    "            request = {\n",
    "                \"product_type\": \"climate_impact_indicators\",\n",
    "                \"variable\": [\"flood_recurrence_10_years_return_period\",\n",
    "                             \"flood_recurrence_50_years_return_period\"],\n",
    "                \"variable_type\": variable_type,\n",
    "                \"time_aggregation\": \"annual_mean\",\n",
    "                \"experiment\": [\"rcp_4_5\", \"rcp_8_5\"],\n",
    "                \"hydrological_model\": hydrological_models,\n",
    "                \"rcm\": rcm,\n",
    "                \"gcm\": gcm,\n",
    "                \"ensemble_member\": ens_member,\n",
    "                \"period\": period\n",
    "            }   \n",
    "            client.retrieve(dataset, request, file)\n",
    "    \n",
    "            # Unzip the file that was just downloaded, and remove the zip file\n",
    "            with zipfile.ZipFile(file, 'r') as zObject:\n",
    "                zObject.extractall(path=data_folder_catch)\n",
    "            os.remove(file)"
   ]
  },
  {
   "cell_type": "markdown",
   "id": "d8fb1cda",
   "metadata": {},
   "source": [
    "Now all of the data that we need for the analysis has been retrieved. In the next notebooks, this data will be used to analyze the impact of climate scenarios on the seasonal and extreme river discharges as a proxy for flood hazard."
   ]
  },
  {
   "cell_type": "markdown",
   "id": "1cd22bd7-c0ac-462b-88a2-016073e29b25",
   "metadata": {},
   "source": [
    "## Next step\n",
    "\n",
    "Continue with the [hazard assessment using river discharge statistics](./hazard_assessment_discharge_analysis.ipynb)."
   ]
  },
  {
   "cell_type": "markdown",
   "id": "079e2c31",
   "metadata": {},
   "source": [
    "## Contributors\n",
    "\n",
    "Author of the workflow: Natalia Aleksandrova (Deltares)"
   ]
  }
 ],
 "metadata": {
  "kernelspec": {
   "display_name": "climaax_floods",
   "language": "python",
   "name": "python3"
  },
  "language_info": {
   "codemirror_mode": {
    "name": "ipython",
    "version": 3
   },
   "file_extension": ".py",
   "mimetype": "text/x-python",
   "name": "python",
   "nbconvert_exporter": "python",
   "pygments_lexer": "ipython3",
   "version": "3.12.10"
  }
 },
 "nbformat": 4,
 "nbformat_minor": 5
}
